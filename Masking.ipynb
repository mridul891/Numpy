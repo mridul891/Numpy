{
 "cells": [
  {
   "cell_type": "markdown",
   "id": "271003c6-47a5-4066-93cc-ddd3e92ce0b5",
   "metadata": {},
   "source": [
    "# Masking"
   ]
  },
  {
   "cell_type": "markdown",
   "id": "570d9a74-6af8-46a5-a0f7-9603ec4b48e7",
   "metadata": {},
   "source": [
    "#### Masking of arrays in Numpy involves creating a Boolean mask (an array of the same shape of the original array , with each element being either True or False ) to filter out or manipulate specific elements based on a condition, by using the mask to index the original array."
   ]
  },
  {
   "cell_type": "code",
   "execution_count": 1,
   "id": "ab078a2f-27bd-4e09-a02f-0ddbfca0d00c",
   "metadata": {},
   "outputs": [],
   "source": [
    "import numpy as np "
   ]
  },
  {
   "cell_type": "code",
   "execution_count": 2,
   "id": "6e3d227a-214e-47bf-a1e7-2443acbeb7ea",
   "metadata": {},
   "outputs": [],
   "source": [
    "arr = np.array([1,2,3,4,5,6])"
   ]
  },
  {
   "cell_type": "code",
   "execution_count": 5,
   "id": "1d232bab-8aa3-449e-af73-5e2a72a08863",
   "metadata": {},
   "outputs": [
    {
     "name": "stdout",
     "output_type": "stream",
     "text": [
      "[4 5 6]\n"
     ]
    }
   ],
   "source": [
    "mask = arr > 3\n",
    "result =arr[mask]\n",
    "print(result)"
   ]
  },
  {
   "cell_type": "code",
   "execution_count": 6,
   "id": "0e92d53f-d793-4ab0-b144-6a6f554a8337",
   "metadata": {},
   "outputs": [],
   "source": [
    "# masked array \n",
    "#['false' ,'false' , 'false ' , 'true' , ' true ' , 'true']"
   ]
  },
  {
   "cell_type": "code",
   "execution_count": 10,
   "id": "5540f344-0a49-4e48-95a3-17839c31aac7",
   "metadata": {},
   "outputs": [
    {
     "data": {
      "text/plain": [
       "array([10, 10,  0,  1,  2])"
      ]
     },
     "execution_count": 10,
     "metadata": {},
     "output_type": "execute_result"
    }
   ],
   "source": [
    "arr1 = np.array([-1,-2,0,1,2])\n",
    "mask = arr1 < 0 \n",
    "arr1[mask] = 10 \n",
    "arr1"
   ]
  },
  {
   "cell_type": "code",
   "execution_count": null,
   "id": "eeb22b9b-893e-4c41-80af-695701946f42",
   "metadata": {},
   "outputs": [],
   "source": []
  }
 ],
 "metadata": {
  "kernelspec": {
   "display_name": "Python 3 (ipykernel)",
   "language": "python",
   "name": "python3"
  },
  "language_info": {
   "codemirror_mode": {
    "name": "ipython",
    "version": 3
   },
   "file_extension": ".py",
   "mimetype": "text/x-python",
   "name": "python",
   "nbconvert_exporter": "python",
   "pygments_lexer": "ipython3",
   "version": "3.11.8"
  }
 },
 "nbformat": 4,
 "nbformat_minor": 5
}
