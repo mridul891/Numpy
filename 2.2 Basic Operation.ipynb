{
 "cells": [
  {
   "cell_type": "code",
   "execution_count": 3,
   "id": "f7f9855c-92d7-4a46-86c7-a5401d5c6569",
   "metadata": {},
   "outputs": [
    {
     "name": "stdout",
     "output_type": "stream",
     "text": [
      "[ 4  6  7 10 12]\n",
      "[-2 -2 -1 -2 -2]\n",
      "[ 3  8 12 24 35]\n",
      "[0.33333333 0.5        0.75       0.66666667 0.71428571]\n",
      "[0 0 0 0 0]\n",
      "[    1    16    81  4096 78125]\n",
      "[[19 22]\n",
      " [43 50]]\n",
      "sin: [0.         0.25881905 0.5        0.8660254 ]\n",
      "cos: [1.         0.96592583 0.8660254  0.5       ]\n",
      "[0.         0.69314718 1.09861229 1.38629436 1.60943791]\n",
      "[0.         0.30103    0.47712125 0.60205999 0.69897   ]\n",
      "Bitwise and :  [0 0 2 0]\n",
      "Bitwise or:  [ 3  6  7 12]\n"
     ]
    }
   ],
   "source": [
    "import numpy as np \n",
    "a= np.array([1,2,3,4,5])\n",
    "b= np.array([3,4,4,6,7])\n",
    "#addition\n",
    "print(a+b)\n",
    "#subtraciton\n",
    "print(a-b)\n",
    "#multiplication \n",
    "print(a*b)\n",
    "#division\n",
    "print(a/b)\n",
    "#modulo \n",
    "print(a//b)\n",
    "#exponential \n",
    "print(a**b)\n",
    "#matrix multiplicationo \n",
    "c = np.array([[1,2],[3,4]])\n",
    "d = np.array([[5,6],[7,8]])\n",
    "print(np.dot(c,d))\n",
    "# trigonmetric function\n",
    "trig = np.array([0,15,30,60])\n",
    "#to use trigo function we need to convert this degree into radian \n",
    "trig1 = np.deg2rad(trig)\n",
    "print(\"sin:\" , np.sin(trig1))\n",
    "print(\"cos:\" , np.cos(trig1))\n",
    "#logarithm function \n",
    "print(np.log(a))\n",
    "print(np.log10(a))\n",
    "#bitwise operations \n",
    "bit1= np.array([1,2,3,4] , dtype = np.uint8)\n",
    "bit2= np.array([2,4,6,8] , dtype = np.uint8)\n",
    "print(\"Bitwise and : \" , np.bitwise_and(bit1, bit2))\n",
    "print(\"Bitwise or: \" , np.bitwise_or(bit1, bit2))\n",
    "\n",
    "\n",
    "\n",
    "\n"
   ]
  },
  {
   "cell_type": "code",
   "execution_count": 4,
   "id": "12d9118c-a748-4468-9815-3eb19f89ef38",
   "metadata": {},
   "outputs": [
    {
     "name": "stdout",
     "output_type": "stream",
     "text": [
      "[False False False False False]\n",
      "[False False False False False]\n",
      "[ True  True  True  True  True]\n",
      "[ True  True  True  True  True]\n",
      "[False False False False False]\n",
      "[ True  True  True  True  True]\n"
     ]
    }
   ],
   "source": [
    "##comparision operator\n",
    "print(a==b)\n",
    "print(a>b)\n",
    "print(a<b)\n",
    "print(a!=b)\n",
    "print(a>=b)\n",
    "print(a<=b)\n"
   ]
  },
  {
   "cell_type": "code",
   "execution_count": 5,
   "id": "07f30aa7-ba5d-4ca6-9659-0ca1adbc3381",
   "metadata": {},
   "outputs": [
    {
     "name": "stdout",
     "output_type": "stream",
     "text": [
      "15\n",
      "3.0\n",
      "3.0\n",
      "1.4142135623730951\n",
      "2.0\n",
      "5\n",
      "1\n"
     ]
    }
   ],
   "source": [
    "##aggregation function \n",
    "\n",
    "#sum \n",
    "print(np.sum(a))\n",
    "#mean \n",
    "print(np.mean(a))\n",
    "#median \n",
    "print(np.median(a))\n",
    "#standard deviation \n",
    "print(np.std(a))\n",
    "#variance \n",
    "print(np.var(a))\n",
    "#maximum\n",
    "print(np.max(a))\n",
    "#minimum\n",
    "print(np.min(a))\n",
    "\n",
    "\n",
    "\n"
   ]
  },
  {
   "cell_type": "code",
   "execution_count": 6,
   "id": "e156e632-9fe3-48b8-8d72-0c5b0152cab4",
   "metadata": {},
   "outputs": [
    {
     "name": "stdout",
     "output_type": "stream",
     "text": [
      "[3 4 4 6 7]\n",
      "reverse order [7 6 4 4 3]\n"
     ]
    }
   ],
   "source": [
    "#sorting operation \n",
    "print(np.sort(b))\n",
    "\n",
    "print(\"reverse order\" ,np.sort(b)[::-1])"
   ]
  },
  {
   "cell_type": "code",
   "execution_count": null,
   "id": "7449d987-075d-4765-a020-0982018971b6",
   "metadata": {},
   "outputs": [],
   "source": []
  }
 ],
 "metadata": {
  "kernelspec": {
   "display_name": "Python 3 (ipykernel)",
   "language": "python",
   "name": "python3"
  },
  "language_info": {
   "codemirror_mode": {
    "name": "ipython",
    "version": 3
   },
   "file_extension": ".py",
   "mimetype": "text/x-python",
   "name": "python",
   "nbconvert_exporter": "python",
   "pygments_lexer": "ipython3",
   "version": "3.11.8"
  }
 },
 "nbformat": 4,
 "nbformat_minor": 5
}
