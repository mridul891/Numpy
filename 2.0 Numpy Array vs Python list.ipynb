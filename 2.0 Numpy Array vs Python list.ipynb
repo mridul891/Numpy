{
 "cells": [
  {
   "cell_type": "markdown",
   "id": "dba63ae7-570b-4377-85a5-4d14cc965f77",
   "metadata": {},
   "source": [
    "# Heading Numpy Arrray vs Python List"
   ]
  },
  {
   "cell_type": "markdown",
   "id": "6fbbe902-3862-44c5-beee-98c7032e2186",
   "metadata": {},
   "source": [
    "Numpy array are multi dimensional structure that are used to store large amount of numerical data. It is like a good of homogeeous Values\n",
    "Where as Python list stores values of all dataa types like string , integers. It is a collection of elements."
   ]
  },
  {
   "cell_type": "code",
   "execution_count": 1,
   "id": "4f1b3a71-6472-4876-a445-4ae49e02ede3",
   "metadata": {},
   "outputs": [
    {
     "name": "stdout",
     "output_type": "stream",
     "text": [
      "Requirement already satisfied: numpy in c:\\users\\pande\\appdata\\local\\programs\\python\\python311\\lib\\site-packages (1.26.4)\n"
     ]
    }
   ],
   "source": [
    "!pip install numpy"
   ]
  },
  {
   "cell_type": "code",
   "execution_count": 3,
   "id": "7d166498-5f69-4668-b165-7666b6aae031",
   "metadata": {},
   "outputs": [
    {
     "name": "stdout",
     "output_type": "stream",
     "text": [
      "List [1, 2, 'dog', 3.18]\n",
      "Array [1 2 3 4 5]\n"
     ]
    }
   ],
   "source": [
    "import numpy as np \n",
    "a= np.array([1,2,3,4,5])\n",
    "b= [1,2,\"dog\" ,3.18]\n",
    "\n",
    "print(\"List\",b)\n",
    "print(\"Array\",a)"
   ]
  },
  {
   "cell_type": "markdown",
   "id": "26f2b570-a991-4650-a6af-59cfbede0940",
   "metadata": {},
   "source": [
    " # Advantage of Numpy Array over Python List \n",
    " \n",
    "Numpy Array give a fast and  efficient way of manipulating and working with numerical datas compared to Python List "
   ]
  },
  {
   "cell_type": "markdown",
   "id": "96700505-9c31-4749-af74-2f8ed62b38ab",
   "metadata": {},
   "source": [
    "## Performing Mathematical Operations "
   ]
  },
  {
   "cell_type": "code",
   "execution_count": 6,
   "id": "29272e91-e5a9-4640-aaf0-fee5585bb4f2",
   "metadata": {},
   "outputs": [
    {
     "name": "stdout",
     "output_type": "stream",
     "text": [
      "sum :  [ 6  9 21 23 42]\n",
      "dot Product: 334\n"
     ]
    }
   ],
   "source": [
    "#addition \n",
    "a= np.array([1,2,3,4,5])\n",
    "b = np.array([5,7,18,19,37])\n",
    "print(\"sum : \" ,a+b)\n",
    "\n",
    "# Dot Product \n",
    "print('dot Product:' , np.dot(a,b))"
   ]
  },
  {
   "cell_type": "markdown",
   "id": "f2d5bfad-f497-46fc-a54a-8033e049b1ed",
   "metadata": {},
   "source": [
    "# Performance \n",
    "As Numpy  array are implemented in c where as Python list are implemented in python\n"
   ]
  },
  {
   "cell_type": "code",
   "execution_count": 7,
   "id": "62841747-cf9f-4336-9f69-cddb9613b099",
   "metadata": {},
   "outputs": [
    {
     "name": "stdout",
     "output_type": "stream",
     "text": [
      "List : 104\n",
      "Array :  20\n"
     ]
    }
   ],
   "source": [
    "#Determining the memory usage of data\n",
    "import sys \n",
    "a= [1,2,3,4,5]\n",
    "b = np.array([1,2,3,4,5])\n",
    "print(\"List :\" , sys.getsizeof(a))\n",
    "print(\"Array : \" , b.nbytes)\n"
   ]
  },
  {
   "cell_type": "markdown",
   "id": "78e1971b-e477-4dbe-b60c-8f280bfbf902",
   "metadata": {},
   "source": [
    "# When to use What?"
   ]
  },
  {
   "cell_type": "markdown",
   "id": "8ee77627-4881-45ee-9637-6564624929b2",
   "metadata": {},
   "source": [
    "Numpy arrays are better suited for numerical computation  operations that require vectorization .\n",
    "It provides a more efficient comapct and convevnient representation of numerical data compared to Python lists "
   ]
  },
  {
   "cell_type": "code",
   "execution_count": null,
   "id": "808bc0bd-d0ab-4ddc-b87d-4f7731a26a6e",
   "metadata": {},
   "outputs": [],
   "source": []
  }
 ],
 "metadata": {
  "kernelspec": {
   "display_name": "Python 3 (ipykernel)",
   "language": "python",
   "name": "python3"
  },
  "language_info": {
   "codemirror_mode": {
    "name": "ipython",
    "version": 3
   },
   "file_extension": ".py",
   "mimetype": "text/x-python",
   "name": "python",
   "nbconvert_exporter": "python",
   "pygments_lexer": "ipython3",
   "version": "3.11.8"
  }
 },
 "nbformat": 4,
 "nbformat_minor": 5
}
