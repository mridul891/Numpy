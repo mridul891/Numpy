{
 "cells": [
  {
   "cell_type": "markdown",
   "id": "5329d43b-7ad6-480a-916e-e1ca80269f56",
   "metadata": {},
   "source": [
    "# I O Handling with Numpy "
   ]
  },
  {
   "cell_type": "markdown",
   "id": "5e31e2a0-cf0e-4cda-9cf4-f936b572a6f3",
   "metadata": {},
   "source": [
    "##### I/O handling refers to the process of inputing and outputing the data to and from the computer system"
   ]
  },
  {
   "cell_type": "markdown",
   "id": "041882bc-182b-4716-afb6-d3ed80b60117",
   "metadata": {},
   "source": [
    "##### This includes reading data from a variety of sources such as files or databases , and writing data to different types of storages , such as hard drives or cloud storage. \n",
    "##### I/O handling is a crucial aspect of  computer  programming as it allows programs to interact with the outside world and manipulate data"
   ]
  },
  {
   "cell_type": "markdown",
   "id": "7eabeb2e-f683-4676-982c-fd6a93ebac4e",
   "metadata": {},
   "source": [
    "Numpy Provides several Function for I/o Handling :"
   ]
  },
  {
   "cell_type": "markdown",
   "id": "800e9d27-90d6-4f8e-af3c-30be03215aac",
   "metadata": {},
   "source": [
    "1. ***numpy.loadtxt()***: This function is used to load data from a text file or a csv file into a numpy array "
   ]
  },
  {
   "cell_type": "markdown",
   "id": "d9aa1dd7-cfe9-46fd-8663-1240d6195fcb",
   "metadata": {},
   "source": [
    " 2. ***numpy.genfromtxt()*** : This function is used to load data from a text file and a csv file into a numpy array and can handle more complex data structure  such as missing values , variables no of columns etc ."
   ]
  },
  {
   "cell_type": "markdown",
   "id": "3587c057-34b5-4985-806b-b6e1e327e2fa",
   "metadata": {},
   "source": [
    " 3. ***numpy.savetxt()***: This function is used to save data from a numpy array to a csv or a text file "
   ]
  },
  {
   "cell_type": "markdown",
   "id": "e8f5eca9-f138-4e60-9b11-4a830fc7d1ff",
   "metadata": {},
   "source": [
    "4. ***numpy.save()***: This Function is used to save data from a numpy array to a binary file . The data can be loaded later using the numpy.load() function"
   ]
  },
  {
   "cell_type": "markdown",
   "id": "dbe00515-8391-46ae-b9d2-6d40bdc80bb9",
   "metadata": {},
   "source": [
    "5. ***numpy.load()*** : This function is used to load data from a binary file created using ***numpy.save()***"
   ]
  },
  {
   "cell_type": "code",
   "execution_count": 1,
   "id": "4f41429e-c72e-4d7e-9424-c8e4b3156d62",
   "metadata": {},
   "outputs": [],
   "source": [
    "import numpy as np "
   ]
  },
  {
   "cell_type": "code",
   "execution_count": 7,
   "id": "368f1c56-cd2a-4170-8c93-cb59284e78f3",
   "metadata": {},
   "outputs": [],
   "source": [
    "#saving data to a text file \n",
    "data = np.array([[1,2,3],[3,4,6]])\n",
    "#Delimiter = Delimeter is the sting that is used to the separate the value \n",
    "np.savetxt('datadoc.txt' ,data , delimiter=',')\n",
    "\n",
    "loaded_data = np.loadtxt('datadoc.txt' ,delimiter = ',')\n",
    "np.save('data.npy' , data)\n",
    "loaded_data = np.load('data.npy')"
   ]
  },
  {
   "cell_type": "code",
   "execution_count": 10,
   "id": "4bdc527e-b561-4eb0-8838-5975469a816e",
   "metadata": {},
   "outputs": [
    {
     "data": {
      "text/plain": [
       "array([[1., 2., 3.],\n",
       "       [3., 4., 6.]])"
      ]
     },
     "execution_count": 10,
     "metadata": {},
     "output_type": "execute_result"
    }
   ],
   "source": [
    "#load data from the text file \n",
    "data = np.genfromtxt('datadoc.txt' , delimiter = ',' , missing_values =\"\" ,filling_values= 0)\n",
    "data"
   ]
  },
  {
   "cell_type": "code",
   "execution_count": 11,
   "id": "e12dfb61-b978-477a-ab57-20513e57715b",
   "metadata": {},
   "outputs": [],
   "source": [
    "# compressing arrays for efficient storage \n",
    "np.savez_compressed('data_compressed.npy',data)"
   ]
  },
  {
   "cell_type": "code",
   "execution_count": 12,
   "id": "0846c8a6-80ea-4930-8fcc-09f3091c3cff",
   "metadata": {},
   "outputs": [
    {
     "data": {
      "text/plain": [
       "array([[1., 2., 3.],\n",
       "       [3., 4., 6.]])"
      ]
     },
     "execution_count": 12,
     "metadata": {},
     "output_type": "execute_result"
    }
   ],
   "source": [
    "data"
   ]
  },
  {
   "cell_type": "code",
   "execution_count": null,
   "id": "fe994d53-5802-4edd-ba5c-5e8fa19abc39",
   "metadata": {},
   "outputs": [],
   "source": []
  }
 ],
 "metadata": {
  "kernelspec": {
   "display_name": "Python 3 (ipykernel)",
   "language": "python",
   "name": "python3"
  },
  "language_info": {
   "codemirror_mode": {
    "name": "ipython",
    "version": 3
   },
   "file_extension": ".py",
   "mimetype": "text/x-python",
   "name": "python",
   "nbconvert_exporter": "python",
   "pygments_lexer": "ipython3",
   "version": "3.11.8"
  }
 },
 "nbformat": 4,
 "nbformat_minor": 5
}
