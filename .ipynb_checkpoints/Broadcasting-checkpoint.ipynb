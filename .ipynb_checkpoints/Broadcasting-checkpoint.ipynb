{
 "cells": [
  {
   "cell_type": "markdown",
   "id": "9e408b53-4342-4d33-9431-3760af30ee8e",
   "metadata": {},
   "source": [
    "# **Broadcasting**"
   ]
  },
  {
   "cell_type": "markdown",
   "id": "f5a22f5c-0fa1-4773-a855-00e735ce3e3e",
   "metadata": {},
   "source": [
    "#### Broadcasting is a feature in the Numpy Library in Python that allows for arithmetic Opreations between arrays of different shapes "
   ]
  },
  {
   "cell_type": "markdown",
   "id": "460a882c-d5f9-44f3-bf45-fa6df2a5d662",
   "metadata": {},
   "source": [
    "#### Broadcasting solves the problem of compatibility in shape berween arrays of different dimensions "
   ]
  },
  {
   "cell_type": "markdown",
   "id": "338b67b4-c068-4e09-ac96-c3754cb95261",
   "metadata": {},
   "source": [
    "#### The smaller array is broadcasted across the larger array so that they have compatible shapes.\n"
   ]
  },
  {
   "cell_type": "markdown",
   "id": "89c066e9-82c5-4a18-88ca-d22dba238aa1",
   "metadata": {},
   "source": [
    "#### BroadCasting provides a means of vectorising array operations so that looping occurs in C instead of Python"
   ]
  },
  {
   "cell_type": "code",
   "execution_count": 2,
   "id": "e269f76c-7b3e-4349-8d74-d8800475a8ae",
   "metadata": {},
   "outputs": [],
   "source": [
    "import numpy as np"
   ]
  },
  {
   "cell_type": "code",
   "execution_count": 2,
   "id": "95dd8872-97df-410a-8e9e-4c1d6f54d687",
   "metadata": {},
   "outputs": [
    {
     "ename": "ValueError",
     "evalue": "operands could not be broadcast together with shapes (5,) (2,2) ",
     "output_type": "error",
     "traceback": [
      "\u001b[1;31m---------------------------------------------------------------------------\u001b[0m",
      "\u001b[1;31mValueError\u001b[0m                                Traceback (most recent call last)",
      "Cell \u001b[1;32mIn[2], line 3\u001b[0m\n\u001b[0;32m      1\u001b[0m arr1 \u001b[38;5;241m=\u001b[39m np\u001b[38;5;241m.\u001b[39marray([\u001b[38;5;241m1\u001b[39m,\u001b[38;5;241m2\u001b[39m,\u001b[38;5;241m3\u001b[39m,\u001b[38;5;241m4\u001b[39m,\u001b[38;5;241m5\u001b[39m])\n\u001b[0;32m      2\u001b[0m arr2 \u001b[38;5;241m=\u001b[39m np\u001b[38;5;241m.\u001b[39marray([[\u001b[38;5;241m1\u001b[39m,\u001b[38;5;241m2\u001b[39m],[\u001b[38;5;241m3\u001b[39m,\u001b[38;5;241m4\u001b[39m]])\n\u001b[1;32m----> 3\u001b[0m arr \u001b[38;5;241m=\u001b[39m \u001b[43marr1\u001b[49m\u001b[38;5;241;43m+\u001b[39;49m\u001b[43marr2\u001b[49m\n\u001b[0;32m      4\u001b[0m \u001b[38;5;28mprint\u001b[39m(arr)\n",
      "\u001b[1;31mValueError\u001b[0m: operands could not be broadcast together with shapes (5,) (2,2) "
     ]
    }
   ],
   "source": [
    "arr1 = np.array([1,2,3,4,5])\n",
    "arr2 = np.array([[1,2],[3,4]])\n",
    "arr = arr1+arr2\n",
    "print(arr)"
   ]
  },
  {
   "cell_type": "markdown",
   "id": "8dc5e4d6-b361-4fe9-8054-f7938cc260be",
   "metadata": {},
   "source": [
    " "
   ]
  },
  {
   "cell_type": "code",
   "execution_count": 3,
   "id": "b80d4c7f-b730-47ea-ae23-b75f0e738f54",
   "metadata": {},
   "outputs": [],
   "source": [
    "#multiplying a scalat to a bigger array -- simple broadcasting"
   ]
  },
  {
   "cell_type": "code",
   "execution_count": 5,
   "id": "de0df30f-eb1d-40c3-b18d-1cbcf0579eeb",
   "metadata": {},
   "outputs": [
    {
     "name": "stdout",
     "output_type": "stream",
     "text": [
      "[ 2.  4.  6.  8. 10. 12.]\n"
     ]
    }
   ],
   "source": [
    "a= np.array([1,2,3,4,5,6])\n",
    "b=2.0\n",
    "c=a*b\n",
    "print(c)"
   ]
  },
  {
   "cell_type": "markdown",
   "id": "bef4d028-5140-466a-8359-7ad31bc807cc",
   "metadata": {
    "jp-MarkdownHeadingCollapsed": true
   },
   "source": [
    "# **General Rules For Broadcasting**"
   ]
  },
  {
   "cell_type": "markdown",
   "id": "48f03042-4cdf-40de-9ed1-03a1aaefe129",
   "metadata": {},
   "source": [
    "Axes must be aligned"
   ]
  },
  {
   "cell_type": "markdown",
   "id": "9d002793-7a65-43d4-a15f-f2055d57c815",
   "metadata": {},
   "source": [
    "If the arrays have different number of dimensions, the shape of the smaller array will be padded with ones on the left "
   ]
  },
  {
   "cell_type": "code",
   "execution_count": 4,
   "id": "5eef55ec-59d6-4a88-9626-8e88092671d5",
   "metadata": {},
   "outputs": [
    {
     "data": {
      "text/plain": [
       "array([[5, 6, 7],\n",
       "       [6, 7, 8],\n",
       "       [7, 8, 9]])"
      ]
     },
     "execution_count": 4,
     "metadata": {},
     "output_type": "execute_result"
    }
   ],
   "source": [
    "a = np.array([1,2,3])\n",
    "b = np.array([[4] ,[5] ,[6]])\n",
    "c=a+b\n",
    "c"
   ]
  },
  {
   "cell_type": "code",
   "execution_count": null,
   "id": "cc99e98e-7149-4c1e-9bff-2ac847b46038",
   "metadata": {},
   "outputs": [],
   "source": []
  }
 ],
 "metadata": {
  "kernelspec": {
   "display_name": "Python 3 (ipykernel)",
   "language": "python",
   "name": "python3"
  },
  "language_info": {
   "codemirror_mode": {
    "name": "ipython",
    "version": 3
   },
   "file_extension": ".py",
   "mimetype": "text/x-python",
   "name": "python",
   "nbconvert_exporter": "python",
   "pygments_lexer": "ipython3",
   "version": "3.11.8"
  }
 },
 "nbformat": 4,
 "nbformat_minor": 5
}
