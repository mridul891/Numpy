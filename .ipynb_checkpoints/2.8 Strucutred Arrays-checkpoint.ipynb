{
 "cells": [
  {
   "cell_type": "markdown",
   "id": "ba121f71-9eb0-4ff9-9790-c84d7d812c49",
   "metadata": {},
   "source": [
    "# Structured Arrays "
   ]
  },
  {
   "cell_type": "markdown",
   "id": "0ec7ba6e-e2a6-43ad-8bc2-2ec2ca2b727b",
   "metadata": {},
   "source": [
    "##### Structured arrays are ndarrays whose datatype is a composition of simpler datatypes organized as a sequence of named fields"
   ]
  },
  {
   "cell_type": "markdown",
   "id": "dd6d5ed9-946e-4fa6-b9af-a5008ba36857",
   "metadata": {},
   "source": [
    "##### Structured arrays can be a powerful tool for organizing , processing and analyzing structured data , and are an important tool for many data analysis and scientific computing applications. "
   ]
  },
  {
   "cell_type": "markdown",
   "id": "c0c548e5-c042-4361-b685-f4df62f5b04c",
   "metadata": {},
   "source": [
    "##### features of strucutre arrays:"
   ]
  },
  {
   "cell_type": "markdown",
   "id": "9b33e778-42e6-4355-b7e1-3d5b2b6fbe02",
   "metadata": {},
   "source": [
    "***1.Data types of fields:*** The data types of each field in structured arrays can be specified using the standard Numpy data types , such as int , float , complex ,bool etc .In addition ,you can also use custom data types  such as datetime64 , timedelta64 etc"
   ]
  },
  {
   "cell_type": "markdown",
   "id": "c07992bd-5c7f-4e37-85a9-91ea3b9e0623",
   "metadata": {},
   "source": [
    "***2.Structured arrays and nested structures:*** You can create nested structures within strucutred arrays by specifying the data types of a field as another structured arrays. This allows you to create more complex data strucutres such as graphs ,tress etc"
   ]
  },
  {
   "cell_type": "code",
   "execution_count": null,
   "id": "fb2af1ad-5d4f-4164-9e45-3a0530ae20c2",
   "metadata": {},
   "outputs": [],
   "source": []
  }
 ],
 "metadata": {
  "kernelspec": {
   "display_name": "Python 3 (ipykernel)",
   "language": "python",
   "name": "python3"
  },
  "language_info": {
   "codemirror_mode": {
    "name": "ipython",
    "version": 3
   },
   "file_extension": ".py",
   "mimetype": "text/x-python",
   "name": "python",
   "nbconvert_exporter": "python",
   "pygments_lexer": "ipython3",
   "version": "3.11.8"
  }
 },
 "nbformat": 4,
 "nbformat_minor": 5
}
