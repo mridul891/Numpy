{
 "cells": [
  {
   "cell_type": "markdown",
   "id": "5a8393bf-16fd-4f0e-8e09-f43575958278",
   "metadata": {},
   "source": [
    "# Types Of Array and its Creation\n",
    "There are two main Genreal Mechanism of Creating Arrays."
   ]
  },
  {
   "cell_type": "markdown",
   "id": "6bc3cf9c-7a32-4bb2-863e-c8b0fd62068d",
   "metadata": {},
   "source": [
    "# 1. Converting Python Sequences to Numpy Arrays:"
   ]
  },
  {
   "cell_type": "markdown",
   "id": "37ad21d7-45a9-456f-af81-73c3a9493de5",
   "metadata": {},
   "source": [
    "Numpy arrays can be created from various Python sequences, such as list and tuples .\n",
    "These sequences can be used to create Numpy ndarrays with different dimensions \n",
    "nd stands for ' n -dimensional'"
   ]
  },
  {
   "cell_type": "code",
   "execution_count": 7,
   "id": "d236cf26-311a-430a-ab86-fe2043aa3b7e",
   "metadata": {},
   "outputs": [
    {
     "name": "stdout",
     "output_type": "stream",
     "text": [
      "Array 1 :  [1 2 3 4]\n",
      "From Tuple : [1 2 3 4]\n",
      "2d Array: [[5 6]\n",
      " [7 8]]\n"
     ]
    }
   ],
   "source": [
    "import numpy as np \n",
    "#converting python list to numpy array \n",
    "list1 = [1,2,3,4]\n",
    "array1 = np.array(list1)\n",
    "print(\"Array 1 : \" , array1)\n",
    "\n",
    "#convertuing tuple to numpy array \n",
    "tuple1 = (1,2,3,4)\n",
    "array = np.array(tuple1)\n",
    "print(\"From Tuple :\" ,array)\n",
    "\n",
    "#creating a 2d array \n",
    "array2 = np.array([[5,6],[7,8]])\n",
    "print(\"2d Array:\",array2)\n"
   ]
  },
  {
   "cell_type": "markdown",
   "id": "5dc0e7f5-0165-44e1-b108-fe170452385e",
   "metadata": {},
   "source": [
    "# 2. Array Creation Function "
   ]
  },
  {
   "cell_type": "markdown",
   "id": "fe1b6b32-0f33-4a43-86b0-59efc11e232a",
   "metadata": {},
   "source": [
    "Numpy provides several Functions for creating arrays with specific values or patterns "
   ]
  },
  {
   "cell_type": "code",
   "execution_count": 19,
   "id": "4783d48d-94cf-4b11-a244-0453c1369fb4",
   "metadata": {},
   "outputs": [
    {
     "name": "stdout",
     "output_type": "stream",
     "text": [
      "array 4 : [2 3 4 5 6 7 8 9]\n",
      "array 5 : [2. 3. 4. 5. 6. 7. 8. 9.]\n",
      "array 6 : [2.  2.5 3.  3.5 4.  4.5 5.  5.5 6.  6.5 7.  7.5 8.  8.5 9.  9.5]\n"
     ]
    }
   ],
   "source": [
    " #1d array \n",
    "#np.arrange np.linspace \n",
    "array4 = np.arange(2,10)\n",
    "print(\"array 4 :\" ,array4)\n",
    "#data type as float \n",
    "\n",
    "array5 = np.arange(2,10 ,dtype = float)\n",
    "print(\"array 5 :\" ,array5)\n",
    "#increasing the internval size\n",
    "array6 = np.arange(2,10,0.5)\n",
    "print(\"array 6 :\" ,array6)"
   ]
  },
  {
   "cell_type": "code",
   "execution_count": null,
   "id": "a50775ee-0029-4945-a6f5-ecb9af2b5ae8",
   "metadata": {},
   "outputs": [],
   "source": []
  }
 ],
 "metadata": {
  "kernelspec": {
   "display_name": "Python 3 (ipykernel)",
   "language": "python",
   "name": "python3"
  },
  "language_info": {
   "codemirror_mode": {
    "name": "ipython",
    "version": 3
   },
   "file_extension": ".py",
   "mimetype": "text/x-python",
   "name": "python",
   "nbconvert_exporter": "python",
   "pygments_lexer": "ipython3",
   "version": "3.11.8"
  }
 },
 "nbformat": 4,
 "nbformat_minor": 5
}
