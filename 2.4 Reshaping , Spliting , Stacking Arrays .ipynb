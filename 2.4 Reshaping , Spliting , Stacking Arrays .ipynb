{
 "cells": [
  {
   "cell_type": "markdown",
   "id": "e09cb420-a225-4651-8456-dabcb41950d2",
   "metadata": {},
   "source": [
    "# Reshaping , Spliting  ans  Stacking Of Arrays "
   ]
  },
  {
   "cell_type": "markdown",
   "id": "dc584290-03a4-40f8-8e9f-34032fd05150",
   "metadata": {},
   "source": [
    "Reshaping is the process of converting a Numpy array into  a different shapes without changing its data\n",
    "splitting is the process of dividing a numpy array into smaller arrays along one or more axes \n",
    "stacking is the process of combining two or more numpy arrays into a single array along a new axis "
   ]
  },
  {
   "cell_type": "code",
   "execution_count": 1,
   "id": "e09c50f7-f98c-4399-b87e-e4eda01ad499",
   "metadata": {},
   "outputs": [],
   "source": [
    "import numpy as np "
   ]
  },
  {
   "cell_type": "code",
   "execution_count": 8,
   "id": "a7517c0b-fafe-4646-8016-c5e03727db92",
   "metadata": {},
   "outputs": [
    {
     "name": "stdout",
     "output_type": "stream",
     "text": [
      "original shape : (2, 3)\n"
     ]
    },
    {
     "data": {
      "text/plain": [
       "array([[1, 2],\n",
       "       [4, 3],\n",
       "       [6, 9]])"
      ]
     },
     "execution_count": 8,
     "metadata": {},
     "output_type": "execute_result"
    }
   ],
   "source": [
    "#reshaping \n",
    "a = np.array([[1,2,4] ,[3,6,9]])\n",
    "#to detemining the shape of the array that is no of rows and columns in 2d array \n",
    "b =a.shape\n",
    "print(\"original shape :\" ,b)\n",
    "a.reshape(3,2)"
   ]
  },
  {
   "cell_type": "code",
   "execution_count": 20,
   "id": "38ff6422-e7d8-4f1b-8b9b-6182d93089f2",
   "metadata": {},
   "outputs": [
    {
     "name": "stdout",
     "output_type": "stream",
     "text": [
      "[[1 2 4]]\n",
      "[[3 6 9]]\n"
     ]
    }
   ],
   "source": [
    "#splitting  \n",
    "#axis is nothing but a direction where you want to split \n",
    "b,c = np.split(a ,2, axis=0)\n",
    "print(b)\n",
    "print(c)"
   ]
  },
  {
   "cell_type": "code",
   "execution_count": 23,
   "id": "1fdf61de-58dd-4668-9ec5-5cba101aa7eb",
   "metadata": {},
   "outputs": [
    {
     "name": "stdout",
     "output_type": "stream",
     "text": [
      "[[ 1  2  4]\n",
      " [ 5  7 19]]\n",
      "[ 1  2  4  5  7 19]\n"
     ]
    }
   ],
   "source": [
    "# stacking \n",
    "a = np.array([1,2,4])\n",
    "b= np.array([5,7,19])\n",
    "c= np.vstack((a ,b))\n",
    "d = np.hstack((a,b))\n",
    "print(c)\n",
    "print(d)"
   ]
  },
  {
   "cell_type": "code",
   "execution_count": 25,
   "id": "a1e6fa67-abb1-434a-86ab-2c366b8b358b",
   "metadata": {},
   "outputs": [
    {
     "name": "stdout",
     "output_type": "stream",
     "text": [
      "[[1 2]\n",
      " [3 4]\n",
      " [5 6]]\n",
      "[1 2 3 4 5 6]\n"
     ]
    }
   ],
   "source": [
    "#concate \n",
    "a = np.array([[1,2] ,[3,4]])\n",
    "b = np.array([[5,6]])\n",
    "c= np.concatenate((a,b) , axis = 0)\n",
    "print(c)\n",
    "d = np.concatenate((a,b) , axis = None)\n",
    "print(d)"
   ]
  },
  {
   "cell_type": "code",
   "execution_count": 26,
   "id": "9d7e770a-cc43-41b6-83fa-64b7fe23485d",
   "metadata": {},
   "outputs": [
    {
     "data": {
      "text/plain": [
       "array([[1, 2],\n",
       "       [3, 4]])"
      ]
     },
     "execution_count": 26,
     "metadata": {},
     "output_type": "execute_result"
    }
   ],
   "source": [
    "#transpose\n",
    "a"
   ]
  },
  {
   "cell_type": "code",
   "execution_count": 27,
   "id": "0c121980-a682-4790-a97a-072e50043ae4",
   "metadata": {},
   "outputs": [
    {
     "data": {
      "text/plain": [
       "array([[1, 3],\n",
       "       [2, 4]])"
      ]
     },
     "execution_count": 27,
     "metadata": {},
     "output_type": "execute_result"
    }
   ],
   "source": [
    "a.T"
   ]
  },
  {
   "cell_type": "code",
   "execution_count": 28,
   "id": "b6a85c17-f92f-463c-be7f-288d940a4b0a",
   "metadata": {},
   "outputs": [
    {
     "data": {
      "text/plain": [
       "4"
      ]
     },
     "execution_count": 28,
     "metadata": {},
     "output_type": "execute_result"
    }
   ],
   "source": [
    "#ndims , nsize , nshape\n",
    "a.size"
   ]
  },
  {
   "cell_type": "code",
   "execution_count": 29,
   "id": "915f465e-64d7-44f7-95f2-46716c392ac2",
   "metadata": {},
   "outputs": [
    {
     "data": {
      "text/plain": [
       "2"
      ]
     },
     "execution_count": 29,
     "metadata": {},
     "output_type": "execute_result"
    }
   ],
   "source": [
    "a.ndim"
   ]
  },
  {
   "cell_type": "code",
   "execution_count": null,
   "id": "618b306e-3c5c-45c7-9562-b9052e670ae7",
   "metadata": {},
   "outputs": [],
   "source": []
  }
 ],
 "metadata": {
  "kernelspec": {
   "display_name": "Python 3 (ipykernel)",
   "language": "python",
   "name": "python3"
  },
  "language_info": {
   "codemirror_mode": {
    "name": "ipython",
    "version": 3
   },
   "file_extension": ".py",
   "mimetype": "text/x-python",
   "name": "python",
   "nbconvert_exporter": "python",
   "pygments_lexer": "ipython3",
   "version": "3.11.8"
  }
 },
 "nbformat": 4,
 "nbformat_minor": 5
}
