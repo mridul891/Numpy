{
 "cells": [
  {
   "cell_type": "markdown",
   "id": "8bf8e091-bb24-4346-9ebe-e933dcca2609",
   "metadata": {},
   "source": [
    "# indexing and slicing \n",
    "Indexing is the process of  accessing individual elements of an array \n",
    "slicing is the process of  accessing a sub-array or a subnet of elements within a array \n"
   ]
  },
  {
   "cell_type": "code",
   "execution_count": 1,
   "id": "e2881cb3-3314-4cea-9e09-5489e860ecfe",
   "metadata": {},
   "outputs": [
    {
     "data": {
      "text/plain": [
       "7"
      ]
     },
     "execution_count": 1,
     "metadata": {},
     "output_type": "execute_result"
    }
   ],
   "source": [
    "import numpy as np \n",
    "a= np.array([3,6,7,8,123])\n",
    "a[2]"
   ]
  },
  {
   "cell_type": "code",
   "execution_count": 2,
   "id": "0e2dffc9-45d1-43f3-9ff4-3f98fae3b4a7",
   "metadata": {},
   "outputs": [
    {
     "data": {
      "text/plain": [
       "123"
      ]
     },
     "execution_count": 2,
     "metadata": {},
     "output_type": "execute_result"
    }
   ],
   "source": [
    "a[-1]"
   ]
  },
  {
   "cell_type": "code",
   "execution_count": 3,
   "id": "2acb8cce-32dc-4f89-ba69-cc559537170b",
   "metadata": {},
   "outputs": [
    {
     "data": {
      "text/plain": [
       "2"
      ]
     },
     "execution_count": 3,
     "metadata": {},
     "output_type": "execute_result"
    }
   ],
   "source": [
    "b = np.array([[1,2],[3,4]])\n",
    "b[0][1]"
   ]
  },
  {
   "cell_type": "code",
   "execution_count": 5,
   "id": "d5d1d515-89ae-4fc0-9049-e168d9df6961",
   "metadata": {},
   "outputs": [
    {
     "data": {
      "text/plain": [
       "array([1, 1, 2, 3, 4, 5, 1])"
      ]
     },
     "execution_count": 5,
     "metadata": {},
     "output_type": "execute_result"
    }
   ],
   "source": [
    "#boolen Indexing \n",
    "x = np.array([1,2,3,4,5,6,1])\n",
    "x[x!=1] -=1 \n",
    "x"
   ]
  },
  {
   "cell_type": "markdown",
   "id": "c2d7b5b7-5340-4201-ad1f-16fcc769547c",
   "metadata": {},
   "source": [
    "# Slicing \n"
   ]
  },
  {
   "cell_type": "code",
   "execution_count": 6,
   "id": "3675a81a-a3d7-4ac9-b222-f680fcd77644",
   "metadata": {},
   "outputs": [
    {
     "data": {
      "text/plain": [
       "array([3, 4])"
      ]
     },
     "execution_count": 6,
     "metadata": {},
     "output_type": "execute_result"
    }
   ],
   "source": [
    "c = np.array ([1,2,3,4,5])\n",
    "#(start : stop : step_wise)\n",
    "c[2:4]"
   ]
  },
  {
   "cell_type": "code",
   "execution_count": null,
   "id": "066a3b9c-d629-4858-bb0a-73873739ec2a",
   "metadata": {},
   "outputs": [],
   "source": []
  }
 ],
 "metadata": {
  "kernelspec": {
   "display_name": "Python 3 (ipykernel)",
   "language": "python",
   "name": "python3"
  },
  "language_info": {
   "codemirror_mode": {
    "name": "ipython",
    "version": 3
   },
   "file_extension": ".py",
   "mimetype": "text/x-python",
   "name": "python",
   "nbconvert_exporter": "python",
   "pygments_lexer": "ipython3",
   "version": "3.11.8"
  }
 },
 "nbformat": 4,
 "nbformat_minor": 5
}
